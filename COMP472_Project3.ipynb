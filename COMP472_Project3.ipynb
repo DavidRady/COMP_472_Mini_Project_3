{
 "cells": [
  {
   "cell_type": "code",
   "execution_count": 1,
   "id": "5d8da074",
   "metadata": {},
   "outputs": [],
   "source": [
    "import gensim.downloader as api\n",
    "import pandas as pd\n",
    "import os.path"
   ]
  },
  {
   "cell_type": "code",
   "execution_count": 2,
   "id": "d772c58f",
   "metadata": {},
   "outputs": [],
   "source": [
    "def eval_w2v(model_name):\n",
    "    df = pd.read_csv('synonyms.csv')\n",
    "    model = api.load(model_name)\n",
    "    words = list(model.key_to_index)\n",
    "    guess = ''\n",
    "    label = 'guess'\n",
    "    num_correct = 0\n",
    "    num_missing = 0\n",
    "\n",
    "    if os.path.exists(F'{model_name}-details.csv'): \n",
    "        open(F'{model_name}-details.csv', 'w').close()\n",
    "\n",
    "    with open(F'{model_name}-details.csv', 'a') as f:\n",
    "        f.write('question,answer,guess,label')\n",
    "        for val in df.values:\n",
    "            options = val[2:6]\n",
    "            f.write(F'\\n{val[0]},{val[1]},')\n",
    "            cosine_measure = 0\n",
    "            \n",
    "            if val[0] in words:\n",
    "\n",
    "                for o in options:\n",
    "                    # Make sure the question and option exist in w2v\n",
    "                    if o in words:\n",
    "                        sim = model.similarity(val[0],o)\n",
    "                        if sim > cosine_measure:\n",
    "                            cosine_measure = sim\n",
    "                            guess = o\n",
    "\n",
    "                    else:\n",
    "                        label = 'guess'\n",
    "            else: \n",
    "                guess = ''\n",
    "                label = 'guess'\n",
    "\n",
    "            if guess == val[1]:\n",
    "                label = 'correct'\n",
    "                num_correct += 1\n",
    "            elif guess == '':\n",
    "                label = 'guess'\n",
    "                num_missing += 1\n",
    "            else: \n",
    "                label = 'wrong'\n",
    "\n",
    "            f.write(F'{guess},{label}')\n",
    "    return len(words), num_correct, (80-num_missing), num_correct/(80-num_missing)"
   ]
  },
  {
   "cell_type": "code",
   "execution_count": 3,
   "id": "dee36b5a",
   "metadata": {},
   "outputs": [],
   "source": [
    "scores = []\n",
    "if os.path.exists(F'analysis.csv'): \n",
    "    open(F'analysis.csv', 'w').close()\n",
    "    \n",
    "with open(F'analysis.csv', 'a') as fl:\n",
    "    fl.write('model,size,C,V,accuracy')\n",
    "    \n",
    "    size, C, V, accuracy = eval_w2v('word2vec-google-news-300')\n",
    "    fl.write(F'\\nword2vec-google-news-300,{size},{C},{V},{accuracy}')\n",
    "    scores.append(accuracy)\n",
    "    \n",
    "    size, C, V, accuracy = eval_w2v('glove-wiki-gigaword-200')\n",
    "    fl.write(F'\\nglove-wiki-gigaword-200,{size},{C},{V},{accuracy}')\n",
    "    scores.append(accuracy)\n",
    "    \n",
    "    size, C, V, accuracy = eval_w2v('glove-twitter-200')\n",
    "    fl.write(F'\\nglove-twitter-200,{size},{C},{V},{accuracy}')\n",
    "    scores.append(accuracy)\n",
    "\n",
    "    size, C, V, accuracy = eval_w2v('glove-wiki-gigaword-50')\n",
    "    fl.write(F'\\nglove-wiki-gigaword-50,{size},{C},{V},{accuracy}')\n",
    "    scores.append(accuracy)\n",
    "    \n",
    "    size, C, V, accuracy = eval_w2v('glove-wiki-gigaword-100')\n",
    "    fl.write(F'\\nglove-wiki-gigaword-100,{size},{C},{V},{accuracy}')\n",
    "    scores.append(accuracy)"
   ]
  },
  {
   "cell_type": "code",
   "execution_count": null,
   "id": "344a520c",
   "metadata": {},
   "outputs": [],
   "source": []
  },
  {
   "cell_type": "code",
   "execution_count": null,
   "id": "887d7986",
   "metadata": {},
   "outputs": [],
   "source": []
  },
  {
   "cell_type": "code",
   "execution_count": null,
   "id": "2e246b36",
   "metadata": {},
   "outputs": [],
   "source": []
  }
 ],
 "metadata": {
  "kernelspec": {
   "display_name": "Python 3",
   "language": "python",
   "name": "python3"
  },
  "language_info": {
   "codemirror_mode": {
    "name": "ipython",
    "version": 3
   },
   "file_extension": ".py",
   "mimetype": "text/x-python",
   "name": "python",
   "nbconvert_exporter": "python",
   "pygments_lexer": "ipython3",
   "version": "3.8.8"
  }
 },
 "nbformat": 4,
 "nbformat_minor": 5
}
